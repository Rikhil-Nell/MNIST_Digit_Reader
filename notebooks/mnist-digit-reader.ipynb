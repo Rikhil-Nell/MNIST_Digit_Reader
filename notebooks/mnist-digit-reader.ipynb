{
 "metadata": {
  "kernelspec": {
   "language": "python",
   "display_name": "Python 3",
   "name": "python3"
  },
  "language_info": {
   "name": "python",
   "version": "3.10.13",
   "mimetype": "text/x-python",
   "codemirror_mode": {
    "name": "ipython",
    "version": 3
   },
   "pygments_lexer": "ipython3",
   "nbconvert_exporter": "python",
   "file_extension": ".py"
  },
  "kaggle": {
   "accelerator": "none",
   "dataSources": [
    {
     "sourceId": 3004,
     "databundleVersionId": 861823,
     "sourceType": "competition"
    }
   ],
   "dockerImageVersionId": 30698,
   "isInternetEnabled": false,
   "language": "python",
   "sourceType": "notebook",
   "isGpuEnabled": false
  }
 },
 "nbformat_minor": 4,
 "nbformat": 4,
 "cells": [
  {
   "metadata": {},
   "cell_type": "markdown",
   "source": [
    "## Importing Libraries and Reading Data\n",
    "- **Import Libraries:** You import necessary libraries: numpy for numerical computations, pandas for data manipulation, and matplotlib for plotting.\n",
    "- **Read Data:** The MNIST dataset is loaded from a CSV file using pandas."
   ]
  },
  {
   "cell_type": "code",
   "source": [
    "import numpy as np\n",
    "import pandas as pd\n",
    "from matplotlib import pyplot as plt\n",
    "import os\n",
    "from datetime import datetime\n",
    "import pickle"
   ],
   "metadata": {
    "_uuid": "8f2839f25d086af736a60e9eeb907d3b93b6e0e5",
    "_cell_guid": "b1076dfc-b9ad-4769-8c92-a6c4dae69d19",
    "execution": {
     "iopub.status.busy": "2024-05-23T23:43:17.925523Z",
     "iopub.execute_input": "2024-05-23T23:43:17.926003Z",
     "iopub.status.idle": "2024-05-23T23:43:17.933842Z",
     "shell.execute_reply.started": "2024-05-23T23:43:17.925970Z",
     "shell.execute_reply": "2024-05-23T23:43:17.932220Z"
    },
    "trusted": true,
    "ExecuteTime": {
     "end_time": "2024-08-22T04:20:32.214591Z",
     "start_time": "2024-08-22T04:20:32.210158Z"
    }
   },
   "outputs": [],
   "execution_count": 87
  },
  {
   "metadata": {
    "ExecuteTime": {
     "end_time": "2024-08-22T04:20:32.266109Z",
     "start_time": "2024-08-22T04:20:32.259595Z"
    }
   },
   "cell_type": "code",
   "source": "os.getcwd()",
   "outputs": [
    {
     "data": {
      "text/plain": [
       "'C:\\\\Users\\\\Rikhil Nellimarla\\\\PycharmProjects\\\\MLtraining\\\\notebooks'"
      ]
     },
     "execution_count": 88,
     "metadata": {},
     "output_type": "execute_result"
    }
   ],
   "execution_count": 88
  },
  {
   "cell_type": "code",
   "source": "data = pd.read_csv('../data/train.csv')",
   "metadata": {
    "execution": {
     "iopub.status.busy": "2024-05-23T23:43:17.940164Z",
     "iopub.execute_input": "2024-05-23T23:43:17.941062Z",
     "iopub.status.idle": "2024-05-23T23:43:21.264362Z",
     "shell.execute_reply.started": "2024-05-23T23:43:17.941018Z",
     "shell.execute_reply": "2024-05-23T23:43:21.263276Z"
    },
    "trusted": true,
    "ExecuteTime": {
     "end_time": "2024-08-22T04:20:34.387139Z",
     "start_time": "2024-08-22T04:20:32.309474Z"
    }
   },
   "outputs": [],
   "execution_count": 89
  },
  {
   "cell_type": "code",
   "source": "data.head()",
   "metadata": {
    "execution": {
     "iopub.status.busy": "2024-05-23T23:43:21.266598Z",
     "iopub.execute_input": "2024-05-23T23:43:21.267067Z",
     "iopub.status.idle": "2024-05-23T23:43:21.288889Z",
     "shell.execute_reply.started": "2024-05-23T23:43:21.267032Z",
     "shell.execute_reply": "2024-05-23T23:43:21.287334Z"
    },
    "trusted": true,
    "ExecuteTime": {
     "end_time": "2024-08-22T04:20:34.422388Z",
     "start_time": "2024-08-22T04:20:34.408349Z"
    }
   },
   "outputs": [
    {
     "data": {
      "text/plain": [
       "   label  pixel0  pixel1  pixel2  pixel3  pixel4  pixel5  pixel6  pixel7  \\\n",
       "0      1       0       0       0       0       0       0       0       0   \n",
       "1      0       0       0       0       0       0       0       0       0   \n",
       "2      1       0       0       0       0       0       0       0       0   \n",
       "3      4       0       0       0       0       0       0       0       0   \n",
       "4      0       0       0       0       0       0       0       0       0   \n",
       "\n",
       "   pixel8  ...  pixel774  pixel775  pixel776  pixel777  pixel778  pixel779  \\\n",
       "0       0  ...         0         0         0         0         0         0   \n",
       "1       0  ...         0         0         0         0         0         0   \n",
       "2       0  ...         0         0         0         0         0         0   \n",
       "3       0  ...         0         0         0         0         0         0   \n",
       "4       0  ...         0         0         0         0         0         0   \n",
       "\n",
       "   pixel780  pixel781  pixel782  pixel783  \n",
       "0         0         0         0         0  \n",
       "1         0         0         0         0  \n",
       "2         0         0         0         0  \n",
       "3         0         0         0         0  \n",
       "4         0         0         0         0  \n",
       "\n",
       "[5 rows x 785 columns]"
      ],
      "text/html": [
       "<div>\n",
       "<style scoped>\n",
       "    .dataframe tbody tr th:only-of-type {\n",
       "        vertical-align: middle;\n",
       "    }\n",
       "\n",
       "    .dataframe tbody tr th {\n",
       "        vertical-align: top;\n",
       "    }\n",
       "\n",
       "    .dataframe thead th {\n",
       "        text-align: right;\n",
       "    }\n",
       "</style>\n",
       "<table border=\"1\" class=\"dataframe\">\n",
       "  <thead>\n",
       "    <tr style=\"text-align: right;\">\n",
       "      <th></th>\n",
       "      <th>label</th>\n",
       "      <th>pixel0</th>\n",
       "      <th>pixel1</th>\n",
       "      <th>pixel2</th>\n",
       "      <th>pixel3</th>\n",
       "      <th>pixel4</th>\n",
       "      <th>pixel5</th>\n",
       "      <th>pixel6</th>\n",
       "      <th>pixel7</th>\n",
       "      <th>pixel8</th>\n",
       "      <th>...</th>\n",
       "      <th>pixel774</th>\n",
       "      <th>pixel775</th>\n",
       "      <th>pixel776</th>\n",
       "      <th>pixel777</th>\n",
       "      <th>pixel778</th>\n",
       "      <th>pixel779</th>\n",
       "      <th>pixel780</th>\n",
       "      <th>pixel781</th>\n",
       "      <th>pixel782</th>\n",
       "      <th>pixel783</th>\n",
       "    </tr>\n",
       "  </thead>\n",
       "  <tbody>\n",
       "    <tr>\n",
       "      <th>0</th>\n",
       "      <td>1</td>\n",
       "      <td>0</td>\n",
       "      <td>0</td>\n",
       "      <td>0</td>\n",
       "      <td>0</td>\n",
       "      <td>0</td>\n",
       "      <td>0</td>\n",
       "      <td>0</td>\n",
       "      <td>0</td>\n",
       "      <td>0</td>\n",
       "      <td>...</td>\n",
       "      <td>0</td>\n",
       "      <td>0</td>\n",
       "      <td>0</td>\n",
       "      <td>0</td>\n",
       "      <td>0</td>\n",
       "      <td>0</td>\n",
       "      <td>0</td>\n",
       "      <td>0</td>\n",
       "      <td>0</td>\n",
       "      <td>0</td>\n",
       "    </tr>\n",
       "    <tr>\n",
       "      <th>1</th>\n",
       "      <td>0</td>\n",
       "      <td>0</td>\n",
       "      <td>0</td>\n",
       "      <td>0</td>\n",
       "      <td>0</td>\n",
       "      <td>0</td>\n",
       "      <td>0</td>\n",
       "      <td>0</td>\n",
       "      <td>0</td>\n",
       "      <td>0</td>\n",
       "      <td>...</td>\n",
       "      <td>0</td>\n",
       "      <td>0</td>\n",
       "      <td>0</td>\n",
       "      <td>0</td>\n",
       "      <td>0</td>\n",
       "      <td>0</td>\n",
       "      <td>0</td>\n",
       "      <td>0</td>\n",
       "      <td>0</td>\n",
       "      <td>0</td>\n",
       "    </tr>\n",
       "    <tr>\n",
       "      <th>2</th>\n",
       "      <td>1</td>\n",
       "      <td>0</td>\n",
       "      <td>0</td>\n",
       "      <td>0</td>\n",
       "      <td>0</td>\n",
       "      <td>0</td>\n",
       "      <td>0</td>\n",
       "      <td>0</td>\n",
       "      <td>0</td>\n",
       "      <td>0</td>\n",
       "      <td>...</td>\n",
       "      <td>0</td>\n",
       "      <td>0</td>\n",
       "      <td>0</td>\n",
       "      <td>0</td>\n",
       "      <td>0</td>\n",
       "      <td>0</td>\n",
       "      <td>0</td>\n",
       "      <td>0</td>\n",
       "      <td>0</td>\n",
       "      <td>0</td>\n",
       "    </tr>\n",
       "    <tr>\n",
       "      <th>3</th>\n",
       "      <td>4</td>\n",
       "      <td>0</td>\n",
       "      <td>0</td>\n",
       "      <td>0</td>\n",
       "      <td>0</td>\n",
       "      <td>0</td>\n",
       "      <td>0</td>\n",
       "      <td>0</td>\n",
       "      <td>0</td>\n",
       "      <td>0</td>\n",
       "      <td>...</td>\n",
       "      <td>0</td>\n",
       "      <td>0</td>\n",
       "      <td>0</td>\n",
       "      <td>0</td>\n",
       "      <td>0</td>\n",
       "      <td>0</td>\n",
       "      <td>0</td>\n",
       "      <td>0</td>\n",
       "      <td>0</td>\n",
       "      <td>0</td>\n",
       "    </tr>\n",
       "    <tr>\n",
       "      <th>4</th>\n",
       "      <td>0</td>\n",
       "      <td>0</td>\n",
       "      <td>0</td>\n",
       "      <td>0</td>\n",
       "      <td>0</td>\n",
       "      <td>0</td>\n",
       "      <td>0</td>\n",
       "      <td>0</td>\n",
       "      <td>0</td>\n",
       "      <td>0</td>\n",
       "      <td>...</td>\n",
       "      <td>0</td>\n",
       "      <td>0</td>\n",
       "      <td>0</td>\n",
       "      <td>0</td>\n",
       "      <td>0</td>\n",
       "      <td>0</td>\n",
       "      <td>0</td>\n",
       "      <td>0</td>\n",
       "      <td>0</td>\n",
       "      <td>0</td>\n",
       "    </tr>\n",
       "  </tbody>\n",
       "</table>\n",
       "<p>5 rows × 785 columns</p>\n",
       "</div>"
      ]
     },
     "execution_count": 90,
     "metadata": {},
     "output_type": "execute_result"
    }
   ],
   "execution_count": 90
  },
  {
   "metadata": {},
   "cell_type": "markdown",
   "source": [
    "## Data Preprocessing\n",
    "- **Convert to Numpy Array:** The dataset is converted to a Numpy array for easier manipulation.\n",
    "- **Shuffle Data:** The data is shuffled to ensure randomness.\n",
    "- **Split Data:** The data is split into training and development sets. The development set contains 1000 samples, and the rest\n",
    "are for training.\n",
    "- **Normalize Data:** The pixel values are normalized by dividing by 255 (to scale values between 0 and 1)."
   ]
  },
  {
   "cell_type": "code",
   "source": [
    "data = np.array(data)\n",
    "m, n = data.shape\n",
    "print(m, n)\n",
    "np.random.shuffle(data)\n",
    "\n",
    "data_dev = data[0:1000].T\n",
    "Y_dev = data_dev[0]\n",
    "X_dev = data_dev[1:n]\n",
    "X_dev = X_dev / 255.\n",
    "\n",
    "data_train = data[1000:m].T\n",
    "Y_train = data_train[0]\n",
    "X_train = data_train[1:n]\n",
    "X_train = X_train / 255.\n",
    "_,m_train = X_train.shape"
   ],
   "metadata": {
    "execution": {
     "iopub.status.busy": "2024-05-23T23:43:21.291201Z",
     "iopub.execute_input": "2024-05-23T23:43:21.291779Z",
     "iopub.status.idle": "2024-05-23T23:43:22.198274Z",
     "shell.execute_reply.started": "2024-05-23T23:43:21.291734Z",
     "shell.execute_reply": "2024-05-23T23:43:22.196754Z"
    },
    "trusted": true,
    "ExecuteTime": {
     "end_time": "2024-08-22T04:20:35.832711Z",
     "start_time": "2024-08-22T04:20:34.565301Z"
    }
   },
   "outputs": [
    {
     "name": "stdout",
     "output_type": "stream",
     "text": [
      "42000 785\n"
     ]
    }
   ],
   "execution_count": 91
  },
  {
   "cell_type": "markdown",
   "source": [
    "## Neural Network Architecture\n",
    "\n",
    "Our NN will have a simple two-layer architecture. Input layer $a^{[0]}$\n",
    "will have 784 units corresponding to the 784 pixels in each 28x28 input image. A hidden layer $a^{[1]}$ will have 10 units with ReLU activation, and finally our output layer $a^{[2]}$ will have 10 units corresponding to the ten digit classes with softmax activation.\n",
    "\n",
    "## Forward Propagation\n",
    "\n",
    "\n",
    "\\begin{align*}\n",
    "Z^{[1]} &= W^{[1]}X + b^{[1]} \\\\\n",
    "A^{[1]} &= g_{\\text{ReLU}}(Z^{[1]}) \\\\\n",
    "Z^{[2]} &= W^{[2]}A^{[1]} + b^{[2]} \\\\\n",
    "A^{[2]} &= g_{\\text{softmax}}(Z^{[2]})\n",
    "\\end{align*}\n",
    "\n",
    "## Backward Propagation\n",
    "\n",
    "\n",
    "\\begin{align*}\n",
    "dZ^{[2]} &= A^{[2]} - Y \\\\\n",
    "dW^{[2]} &= \\frac{1}{m} dZ^{[2]} (A^{[1]})^T \\\\\n",
    "dB^{[2]} &= \\frac{1}{m} \\sum dZ^{[2]} \\\\\n",
    "dZ^{[1]} &= (W^{[2]})^T dZ^{[2]} \\cdot g'_{\\text{ReLU}}(Z^{[1]}) \\\\\n",
    "dW^{[1]} &= \\frac{1}{m} dZ^{[1]} (A^{[0]})^T \\\\\n",
    "dB^{[1]} &= \\frac{1}{m} \\sum dZ^{[1]}\n",
    "\\end{align*}\n",
    "\n",
    "\n",
    "## Parameter Updates\n",
    "\n",
    "\n",
    "\\begin{align*}\n",
    "W^{[2]} &:= W^{[2]} - \\alpha dW^{[2]} \\\\\n",
    "b^{[2]} &:= b^{[2]} - \\alpha dB^{[2]} \\\\\n",
    "W^{[1]} &:= W^{[1]} - \\alpha dW^{[1]} \\\\\n",
    "b^{[1]} &:= b^{[1]} - \\alpha dB^{[1]}\n",
    "\\end{align*}\n",
    "\n",
    "\n",
    "## Variables and Shapes\n",
    "\n",
    "### Forward Propagation\n",
    "\n",
    "\n",
    "\\begin{align*}\n",
    "A^{[0]} = X &\\quad : \\quad 784 \\times m \\\\\n",
    "Z^{[1]} \\sim A^{[1]} &\\quad : \\quad 10 \\times m \\\\\n",
    "W^{[1]} &\\quad : \\quad 10 \\times 784 \\quad (\\text{as } W^{[1]} A^{[0]} \\sim Z^{[1]}) \\\\\n",
    "b^{[1]} &\\quad : \\quad 10 \\times 1 \\\\\n",
    "Z^{[2]} \\sim A^{[2]} &\\quad : \\quad 10 \\times m \\\\\n",
    "W^{[2]} &\\quad : \\quad 10 \\times 10 \\quad (\\text{as } W^{[2]} A^{[1]} \\sim Z^{[2]}) \\\\\n",
    "b^{[2]} &\\quad : \\quad 10 \\times 1\n",
    "\\end{align*}\n",
    "\n",
    "\n",
    "### Backward Propagation\n",
    "\n",
    "\n",
    "\\begin{align*}\n",
    "dZ^{[2]} &\\quad : \\quad 10 \\times m \\quad (A^{[2]}) \\\\\n",
    "dW^{[2]} &\\quad : \\quad 10 \\times 10 \\\\\n",
    "dB^{[2]} &\\quad : \\quad 10 \\times 1 \\\\\n",
    "dZ^{[1]} &\\quad : \\quad 10 \\times m \\quad (A^{[1]}) \\\\\n",
    "dW^{[1]} &\\quad : \\quad 10 \\times 10 \\\\\n",
    "dB^{[1]} &\\quad : \\quad 10 \\times 1\n",
    "\\end{align*}\n",
    "\n"
   ],
   "metadata": {}
  },
  {
   "metadata": {
    "ExecuteTime": {
     "end_time": "2024-08-22T04:20:36.199891Z",
     "start_time": "2024-08-22T04:20:36.161727Z"
    }
   },
   "cell_type": "code",
   "source": [
    "def init_params():\n",
    "    W1 = np.random.rand(10, 784) - 0.5\n",
    "    b1 = np.random.rand(10, 1) - 0.5\n",
    "    W2 = np.random.rand(10, 10) - 0.5\n",
    "    b2 = np.random.rand(10, 1) - 0.5\n",
    "    return W1, b1, W2, b2\n",
    "\n",
    "def ReLU(Z):\n",
    "    return np.maximum(Z, 0)\n",
    "\n",
    "def softmax(Z):\n",
    "    A = np.exp(Z) / sum(np.exp(Z))\n",
    "    return A\n",
    "\n",
    "def forward_prop(W1, b1, W2, b2, X):\n",
    "    Z1 = W1.dot(X) + b1\n",
    "    A1 = ReLU(Z1)\n",
    "    Z2 = W2.dot(A1) + b2\n",
    "    A2 = softmax(Z2)\n",
    "    return Z1, A1, Z2, A2\n",
    "\n",
    "def ReLU_deriv(Z):\n",
    "    return Z > 0\n",
    "\n",
    "def one_hot(Y):\n",
    "    one_hot_Y = np.zeros((Y.size, Y.max() + 1))\n",
    "    one_hot_Y[np.arange(Y.size), Y] = 1\n",
    "    one_hot_Y = one_hot_Y.T\n",
    "    return one_hot_Y\n",
    "\n",
    "def backward_prop(Z1, A1, Z2, A2, W1, W2, X, Y):\n",
    "    one_hot_Y = one_hot(Y)\n",
    "    dZ2 = A2 - one_hot_Y\n",
    "    dW2 = 1 / m * dZ2.dot(A1.T)\n",
    "    db2 = 1 / m * np.sum(dZ2)\n",
    "    dZ1 = W2.T.dot(dZ2) * ReLU_deriv(Z1)\n",
    "    dW1 = 1 / m * dZ1.dot(X.T)\n",
    "    db1 = 1 / m * np.sum(dZ1)\n",
    "    return dW1, db1, dW2, db2\n",
    "\n",
    "def update_params(W1, b1, W2, b2, dW1, db1, dW2, db2, alpha):\n",
    "    W1 = W1 - alpha * dW1\n",
    "    b1 = b1 - alpha * db1    \n",
    "    W2 = W2 - alpha * dW2  \n",
    "    b2 = b2 - alpha * db2    \n",
    "    return W1, b1, W2, b2"
   ],
   "outputs": [],
   "execution_count": 92
  },
  {
   "metadata": {
    "execution": {
     "iopub.status.busy": "2024-05-23T23:43:22.219156Z",
     "iopub.execute_input": "2024-05-23T23:43:22.219529Z",
     "iopub.status.idle": "2024-05-23T23:43:22.231459Z",
     "shell.execute_reply.started": "2024-05-23T23:43:22.219499Z",
     "shell.execute_reply": "2024-05-23T23:43:22.230005Z"
    },
    "trusted": true,
    "ExecuteTime": {
     "end_time": "2024-08-22T04:20:36.391346Z",
     "start_time": "2024-08-22T04:20:36.219885Z"
    }
   },
   "cell_type": "code",
   "source": [
    "def get_predictions(A2):\n",
    "    return np.argmax(A2, 0)\n",
    "\n",
    "def get_accuracy(predictions, Y):\n",
    "    print(predictions, Y)\n",
    "    return np.sum(predictions == Y) / Y.size\n",
    "\n",
    "def compute_loss(A2, Y):\n",
    "    m = Y.shape[0]\n",
    "    log_likelihood = -np.log(A2[Y, range(m)])\n",
    "    loss = np.sum(log_likelihood) / m\n",
    "    return loss\n",
    "\n",
    "def name_setter(path, name, filetype):\n",
    "    now = datetime.now()\n",
    "    timestamp = now.strftime(\"%Y-%m-%d_%H-%M-%S\")\n",
    "    filename = f\"{name}({path}_{timestamp}).{filetype}\"\n",
    "    save_path = os.path.join(\"..\",path, filename)\n",
    "    return save_path\n",
    "\n",
    "def save_plots(accuracy_list, loss_list):\n",
    "\n",
    "    iterations = range(len(accuracy_list))\n",
    "\n",
    "    plt.figure(figsize=(12, 5))\n",
    "\n",
    "    # Plot accuracy\n",
    "    plt.subplot(1, 2, 1)\n",
    "    plt.plot(iterations, accuracy_list, label='Accuracy')\n",
    "    plt.xlabel('Iterations')\n",
    "    plt.ylabel('Accuracy')\n",
    "    plt.title('Accuracy over Iterations')\n",
    "    plt.legend()\n",
    "\n",
    "    # Plot loss\n",
    "    plt.subplot(1, 2, 2)\n",
    "    plt.plot(iterations, loss_list, label='Loss')\n",
    "    plt.xlabel('Iterations')\n",
    "    plt.ylabel('Loss')\n",
    "    plt.title('Loss over Iterations')\n",
    "    plt.legend()\n",
    "\n",
    "    plt.tight_layout()\n",
    "    name = input(\"Name of the results: \")\n",
    "    plt.savefig(name_setter(\"results\",name,\"png\"))\n",
    "    plt.show()\n",
    "\n",
    "# Function to save model parameters\n",
    "def save_model(W1, b1, W2, b2):\n",
    "    name = input(\"Name of the model: \")\n",
    "    save_path = name_setter(\"models\",name,\"pk1\")\n",
    "    with open(save_path, 'wb') as file:\n",
    "        pickle.dump((W1, b1, W2, b2), file)\n",
    "    print(f\"Model saved as {save_path}.\")\n",
    "\n",
    "def list_models():\n",
    "    model_files = os.listdir(\"..\\\\models\")\n",
    "    print(model_files)\n",
    "    model_names = [file.split(\"_\")[1] for file in model_files]\n",
    "\n",
    "    print(\"Available models:\")\n",
    "    for i, name in enumerate(model_names, start=1):\n",
    "        print(f\"{i}. {name}\")\n",
    "\n",
    "def list_models():\n",
    "    model_files = os.listdir(\"..\\\\models\")\n",
    "\n",
    "    # Extract model names and dates from filenames\n",
    "    models_with_dates = []\n",
    "    for file in model_files:\n",
    "        parts = file.split(\"_\")\n",
    "        if len(parts) >= 3:\n",
    "            model_name = parts[1]\n",
    "            date_str = parts[2] + \"_\" + parts[3].split(\".\")[0]  # Format 'YYYY-MM-DD_HH-MM-SS'\n",
    "            try:\n",
    "                # Convert date string to a more readable format\n",
    "                date = datetime.strptime(date_str, \"%Y-%m-%d_%H-%M-%S\").strftime(\"%Y-%m-%d %H:%M:%S\")\n",
    "            except ValueError:\n",
    "                date = \"Unknown\"\n",
    "            models_with_dates.append((model_name, date))\n",
    "\n",
    "    # Print headers\n",
    "    print(f\"{'Model Name':<25} {'Date and Time'}\")\n",
    "    print(\"-\" * 40)\n",
    "\n",
    "    # Print model names and dates\n",
    "    for i, (name, date) in enumerate(models_with_dates, start=1):\n",
    "        print(f\"{i}. {name:<25} {date}\")\n",
    "\n",
    "def gradient_descent(X, Y, alpha, iterations):\n",
    "    W1, b1, W2, b2 = init_params()\n",
    "    accuracy_list = []\n",
    "    loss_list = []\n",
    "\n",
    "    for i in range(iterations):\n",
    "        Z1, A1, Z2, A2 = forward_prop(W1, b1, W2, b2, X)\n",
    "        dW1, db1, dW2, db2 = backward_prop(Z1, A1, Z2, A2, W1, W2, X, Y)\n",
    "        W1, b1, W2, b2 = update_params(W1, b1, W2, b2, dW1, db1, dW2, db2, alpha)\n",
    "\n",
    "        if i % 10 == 0:\n",
    "            predictions = get_predictions(A2)\n",
    "            accuracy = get_accuracy(predictions, Y)\n",
    "            loss = np.mean(np.sum(-np.log(A2 + 1e-8) * one_hot(Y), axis=0))  # Compute cross-entropy loss\n",
    "            accuracy_list.append(accuracy)\n",
    "            loss_list.append(loss)\n",
    "            print(f\"Iteration: {i} - Accuracy: {accuracy} - Loss: {loss}\")\n",
    "\n",
    "    save_plots(accuracy_list, loss_list)\n",
    "    \n",
    "    save_model_input = input(\"Do you wish to save this model? (yes/no)\")\n",
    "    if save_model_input == \"yes\":\n",
    "        save_model(W1, b1, W2, b2)\n",
    "        \n",
    "    return W1, b1, W2, b2\n"
   ],
   "outputs": [],
   "execution_count": 93
  },
  {
   "metadata": {
    "ExecuteTime": {
     "end_time": "2024-08-22T04:21:09.414515Z",
     "start_time": "2024-08-22T04:20:37.626814Z"
    }
   },
   "cell_type": "code",
   "source": [
    "use_saved_model = input(\"Do you want to test with the current model or a saved model? (current/saved): \").lower()\n",
    "if use_saved_model == 'saved':\n",
    "    list_models()\n",
    "    name = input(\"Enter the name of the model: \")\n",
    "    W1, b1, W2, b2 = load_model(name)\n",
    "else:\n",
    "    W1, b1, W2, b2 = gradient_descent(X_train, Y_train, 0.10, 500)\n",
    "    "
   ],
   "outputs": [
    {
     "name": "stdout",
     "output_type": "stream",
     "text": [
      "['average(models_2024-05-28_18-34-25).pk1', 'bad-performance(models_2024-06-17_20-18-47).pk1', 'results(models_2024-06-24_10-53-31).pk1', 'top-model(models_2024-08-21_23-32-10).pk1']\n",
      "Available models:\n",
      "1. 2024-05-28\n",
      "2. 2024-06-17\n",
      "3. 2024-06-24\n",
      "4. 2024-08-21\n"
     ]
    },
    {
     "ename": "FileNotFoundError",
     "evalue": "[Errno 2] No such file or directory: 'models\\\\top-model(models_2024-08-21_23-32-10).pk1'",
     "output_type": "error",
     "traceback": [
      "\u001B[1;31m---------------------------------------------------------------------------\u001B[0m",
      "\u001B[1;31mFileNotFoundError\u001B[0m                         Traceback (most recent call last)",
      "Cell \u001B[1;32mIn[94], line 5\u001B[0m\n\u001B[0;32m      3\u001B[0m     list_models()\n\u001B[0;32m      4\u001B[0m     name \u001B[38;5;241m=\u001B[39m \u001B[38;5;28minput\u001B[39m(\u001B[38;5;124m\"\u001B[39m\u001B[38;5;124mEnter the name of the model: \u001B[39m\u001B[38;5;124m\"\u001B[39m)\n\u001B[1;32m----> 5\u001B[0m     W1, b1, W2, b2 \u001B[38;5;241m=\u001B[39m \u001B[43mload_model\u001B[49m\u001B[43m(\u001B[49m\u001B[43mname\u001B[49m\u001B[43m)\u001B[49m\n\u001B[0;32m      6\u001B[0m \u001B[38;5;28;01melse\u001B[39;00m:\n\u001B[0;32m      7\u001B[0m     W1, b1, W2, b2 \u001B[38;5;241m=\u001B[39m gradient_descent(X_train, Y_train, \u001B[38;5;241m0.10\u001B[39m, \u001B[38;5;241m500\u001B[39m)\n",
      "Cell \u001B[1;32mIn[93], line 70\u001B[0m, in \u001B[0;36mload_model\u001B[1;34m(custom_name)\u001B[0m\n\u001B[0;32m     68\u001B[0m \u001B[38;5;28;01mif\u001B[39;00m custom_name \u001B[38;5;129;01min\u001B[39;00m file:\n\u001B[0;32m     69\u001B[0m     model_path \u001B[38;5;241m=\u001B[39m os\u001B[38;5;241m.\u001B[39mpath\u001B[38;5;241m.\u001B[39mjoin(\u001B[38;5;124m\"\u001B[39m\u001B[38;5;124mmodels\u001B[39m\u001B[38;5;124m\"\u001B[39m, file)\n\u001B[1;32m---> 70\u001B[0m     \u001B[38;5;28;01mwith\u001B[39;00m \u001B[38;5;28;43mopen\u001B[39;49m\u001B[43m(\u001B[49m\u001B[43mmodel_path\u001B[49m\u001B[43m,\u001B[49m\u001B[43m \u001B[49m\u001B[38;5;124;43m'\u001B[39;49m\u001B[38;5;124;43mrb\u001B[39;49m\u001B[38;5;124;43m'\u001B[39;49m\u001B[43m)\u001B[49m \u001B[38;5;28;01mas\u001B[39;00m f:\n\u001B[0;32m     71\u001B[0m         W1, b1, W2, b2 \u001B[38;5;241m=\u001B[39m pickle\u001B[38;5;241m.\u001B[39mload(f)\n\u001B[0;32m     72\u001B[0m     \u001B[38;5;28mprint\u001B[39m(\u001B[38;5;124mf\u001B[39m\u001B[38;5;124m\"\u001B[39m\u001B[38;5;124mModel loaded from \u001B[39m\u001B[38;5;132;01m{\u001B[39;00mfile\u001B[38;5;132;01m}\u001B[39;00m\u001B[38;5;124m.\u001B[39m\u001B[38;5;124m\"\u001B[39m)\n",
      "File \u001B[1;32m~\\PycharmProjects\\MLtraining\\venv\\Lib\\site-packages\\IPython\\core\\interactiveshell.py:324\u001B[0m, in \u001B[0;36m_modified_open\u001B[1;34m(file, *args, **kwargs)\u001B[0m\n\u001B[0;32m    317\u001B[0m \u001B[38;5;28;01mif\u001B[39;00m file \u001B[38;5;129;01min\u001B[39;00m {\u001B[38;5;241m0\u001B[39m, \u001B[38;5;241m1\u001B[39m, \u001B[38;5;241m2\u001B[39m}:\n\u001B[0;32m    318\u001B[0m     \u001B[38;5;28;01mraise\u001B[39;00m \u001B[38;5;167;01mValueError\u001B[39;00m(\n\u001B[0;32m    319\u001B[0m         \u001B[38;5;124mf\u001B[39m\u001B[38;5;124m\"\u001B[39m\u001B[38;5;124mIPython won\u001B[39m\u001B[38;5;124m'\u001B[39m\u001B[38;5;124mt let you open fd=\u001B[39m\u001B[38;5;132;01m{\u001B[39;00mfile\u001B[38;5;132;01m}\u001B[39;00m\u001B[38;5;124m by default \u001B[39m\u001B[38;5;124m\"\u001B[39m\n\u001B[0;32m    320\u001B[0m         \u001B[38;5;124m\"\u001B[39m\u001B[38;5;124mas it is likely to crash IPython. If you know what you are doing, \u001B[39m\u001B[38;5;124m\"\u001B[39m\n\u001B[0;32m    321\u001B[0m         \u001B[38;5;124m\"\u001B[39m\u001B[38;5;124myou can use builtins\u001B[39m\u001B[38;5;124m'\u001B[39m\u001B[38;5;124m open.\u001B[39m\u001B[38;5;124m\"\u001B[39m\n\u001B[0;32m    322\u001B[0m     )\n\u001B[1;32m--> 324\u001B[0m \u001B[38;5;28;01mreturn\u001B[39;00m \u001B[43mio_open\u001B[49m\u001B[43m(\u001B[49m\u001B[43mfile\u001B[49m\u001B[43m,\u001B[49m\u001B[43m \u001B[49m\u001B[38;5;241;43m*\u001B[39;49m\u001B[43margs\u001B[49m\u001B[43m,\u001B[49m\u001B[43m \u001B[49m\u001B[38;5;241;43m*\u001B[39;49m\u001B[38;5;241;43m*\u001B[39;49m\u001B[43mkwargs\u001B[49m\u001B[43m)\u001B[49m\n",
      "\u001B[1;31mFileNotFoundError\u001B[0m: [Errno 2] No such file or directory: 'models\\\\top-model(models_2024-08-21_23-32-10).pk1'"
     ]
    }
   ],
   "execution_count": 94
  },
  {
   "cell_type": "code",
   "source": [
    "def make_predictions(X, W1, b1, W2, b2):\n",
    "    _, _, _, A2 = forward_prop(W1, b1, W2, b2, X)\n",
    "    predictions = get_predictions(A2)\n",
    "    return predictions\n",
    "\n",
    "def test_prediction(index, W1, b1, W2, b2):\n",
    "    current_image = X_dev[:, index, None]\n",
    "    prediction = make_predictions(X_dev[:, index, None], W1, b1, W2, b2)\n",
    "    label = Y_dev[index]\n",
    "    print(\"Prediction: \", prediction)\n",
    "    print(\"Label: \", label)\n",
    "    \n",
    "    current_image = current_image.reshape((28, 28)) * 255\n",
    "    plt.gray()\n",
    "    plt.imshow(current_image, interpolation='nearest')\n",
    "    plt.show()"
   ],
   "metadata": {
    "execution": {
     "iopub.status.busy": "2024-05-23T23:45:47.189441Z",
     "iopub.execute_input": "2024-05-23T23:45:47.190017Z",
     "iopub.status.idle": "2024-05-23T23:45:47.200737Z",
     "shell.execute_reply.started": "2024-05-23T23:45:47.189970Z",
     "shell.execute_reply": "2024-05-23T23:45:47.199378Z"
    },
    "trusted": true,
    "ExecuteTime": {
     "end_time": "2024-08-22T04:21:09.436518800Z",
     "start_time": "2024-08-21T18:02:10.821853Z"
    }
   },
   "outputs": [],
   "execution_count": 8
  },
  {
   "cell_type": "code",
   "source": "test_prediction(10, W1, b1, W2, b2)",
   "metadata": {
    "execution": {
     "iopub.status.busy": "2024-05-23T23:47:37.261402Z",
     "iopub.execute_input": "2024-05-23T23:47:37.262526Z",
     "iopub.status.idle": "2024-05-23T23:47:37.529871Z",
     "shell.execute_reply.started": "2024-05-23T23:47:37.262482Z",
     "shell.execute_reply": "2024-05-23T23:47:37.528183Z"
    },
    "trusted": true,
    "ExecuteTime": {
     "end_time": "2024-08-22T04:21:09.436518800Z",
     "start_time": "2024-08-22T03:45:27.197626Z"
    }
   },
   "outputs": [
    {
     "ename": "NameError",
     "evalue": "name 'test_prediction' is not defined",
     "output_type": "error",
     "traceback": [
      "\u001B[1;31m---------------------------------------------------------------------------\u001B[0m",
      "\u001B[1;31mNameError\u001B[0m                                 Traceback (most recent call last)",
      "Cell \u001B[1;32mIn[1], line 1\u001B[0m\n\u001B[1;32m----> 1\u001B[0m \u001B[43mtest_prediction\u001B[49m(\u001B[38;5;241m10\u001B[39m, W1, b1, W2, b2)\n",
      "\u001B[1;31mNameError\u001B[0m: name 'test_prediction' is not defined"
     ]
    }
   ],
   "execution_count": 1
  }
 ]
}
